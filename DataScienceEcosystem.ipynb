{
 "cells": [
  {
   "cell_type": "markdown",
   "id": "23e84f51-e758-422a-a06e-4b2fbaa492bc",
   "metadata": {},
   "source": [
    "Data Science Tools and Ecosystem"
   ]
  },
  {
   "cell_type": "markdown",
   "id": "a1b25b39-d63a-4678-bb19-ea266d7f0673",
   "metadata": {},
   "source": [
    "In this notebook, Data Science Tools and Ecosystem are summarized."
   ]
  },
  {
   "cell_type": "markdown",
   "id": "1034e468-d680-43d3-9d74-46c44e732065",
   "metadata": {},
   "source": [
    "Objectives:\n",
    "1.jupyter notebooks\n",
    "2.github\n",
    "3.python\n",
    "4.markdown cells\n",
    "5.code cells"
   ]
  },
  {
   "cell_type": "markdown",
   "id": "e5da2b4f-2d56-450e-80e3-399f9fd180ec",
   "metadata": {},
   "source": [
    "Some of the popular languages that Data Scientists use are:\n",
    "1.Python\n",
    "2.R\n",
    "3.Sql "
   ]
  },
  {
   "cell_type": "markdown",
   "id": "2eb1f952-853b-4aee-9dfc-040b463d43f0",
   "metadata": {},
   "source": [
    "Some of the commonly used libraries used by Data Scientists include:\n",
    "1.Pandas\n",
    "2.Numpy\n",
    "3.Catex"
   ]
  },
  {
   "cell_type": "markdown",
   "id": "739dd8e2-bf7d-4608-8d5c-e466233e9ec3",
   "metadata": {},
   "source": [
    "|Data Science Tools|\n",
    "|------------------|\n",
    "|git|\n",
    "|github|\n",
    "|jupyter notebooks|"
   ]
  },
  {
   "cell_type": "markdown",
   "id": "831ad9e1-2253-48ef-aa04-a7b6cf5c594d",
   "metadata": {},
   "source": [
    "Below are a few examples of evaluating arithmetic expressions in Python"
   ]
  },
  {
   "cell_type": "code",
   "execution_count": 1,
   "id": "3895178b-35b5-4e93-abb2-721ad2350627",
   "metadata": {},
   "outputs": [
    {
     "data": {
      "text/plain": [
       "17"
      ]
     },
     "execution_count": 1,
     "metadata": {},
     "output_type": "execute_result"
    }
   ],
   "source": [
    "#This a simple arithmetic expression to mutiply then add integers\n",
    "(3*4)+5"
   ]
  },
  {
   "cell_type": "code",
   "execution_count": 2,
   "id": "f97c719d-8de1-4c3c-93d4-6073f501151a",
   "metadata": {},
   "outputs": [
    {
     "data": {
      "text/plain": [
       "3.3333333333333335"
      ]
     },
     "execution_count": 2,
     "metadata": {},
     "output_type": "execute_result"
    }
   ],
   "source": [
    "#This will convert 200 minutes to hours by diving by 60\n",
    "200/60"
   ]
  },
  {
   "cell_type": "markdown",
   "id": "a3fff92c-74a0-4dec-99f1-c573bcd43c05",
   "metadata": {},
   "source": [
    "## Author\n",
    "Khubaib Bin Umer"
   ]
  }
 ],
 "metadata": {
  "kernelspec": {
   "display_name": "Python 3 (ipykernel)",
   "language": "python",
   "name": "python3"
  },
  "language_info": {
   "codemirror_mode": {
    "name": "ipython",
    "version": 3
   },
   "file_extension": ".py",
   "mimetype": "text/x-python",
   "name": "python",
   "nbconvert_exporter": "python",
   "pygments_lexer": "ipython3",
   "version": "3.12.8"
  }
 },
 "nbformat": 4,
 "nbformat_minor": 5
}
